{
  "nbformat": 4,
  "nbformat_minor": 0,
  "metadata": {
    "colab": {
      "provenance": []
    },
    "kernelspec": {
      "name": "python3",
      "display_name": "Python 3"
    },
    "language_info": {
      "name": "python"
    }
  },
  "cells": [
    {
      "cell_type": "code",
      "execution_count": null,
      "metadata": {
        "id": "KwSW3k4EScQS"
      },
      "outputs": [],
      "source": [
        "!pip install gtts\n",
        "!pip install pydub"
      ]
    },
    {
      "cell_type": "code",
      "source": [
        "import json\n",
        "from gtts import gTTS\n",
        "from pydub import AudioSegment\n",
        "import os\n",
        "\n",
        "# Load JSON file with transcripts\n",
        "with open('/content/transcripts_serialized.json', 'r') as file:\n",
        "    transcripts = json.load(file)\n",
        "\n",
        "# Create a directory to save audio files if it doesn't exist\n",
        "os.makedirs(\"audio_files1\", exist_ok=True)\n",
        "\n",
        "# Generate audio files for each transcript\n",
        "for key, data in transcripts.items():\n",
        "    text = data[\"transcript\"]\n",
        "    tts = gTTS(text=text, lang='en')\n",
        "    tts.save(f\"audio_files1/transcript_{key}.mp3\")\n",
        "\n",
        "    # Optionally convert to .wav format\n",
        "    # AudioSegment.from_mp3(f\"audio_files/transcript_{key}.mp3\").export(f\"audio_files/transcript_{key}.wav\", format=\"wav\")\n"
      ],
      "metadata": {
        "id": "7A-YrdkWShVs"
      },
      "execution_count": null,
      "outputs": []
    },
    {
      "cell_type": "code",
      "source": [
        "import shutil\n",
        "\n",
        "# Path to the folder with audio files\n",
        "audio_folder_path = '/content/audio_files1'\n",
        "zip_file_path = '/content/audio_files1.zip'\n",
        "\n",
        "# Compress the folder into a zip file\n",
        "shutil.make_archive(audio_folder_path, 'zip', audio_folder_path)\n",
        "\n",
        "# The zip file will be saved as audio_files1.zip\n",
        "print(\"Download your zip file here:\", zip_file_path)\n"
      ],
      "metadata": {
        "id": "WopQibfWShSG"
      },
      "execution_count": null,
      "outputs": []
    },
    {
      "cell_type": "code",
      "source": [],
      "metadata": {
        "id": "O0sviCC_ShPg"
      },
      "execution_count": null,
      "outputs": []
    },
    {
      "cell_type": "code",
      "source": [],
      "metadata": {
        "id": "9Wkt9X2ZShMf"
      },
      "execution_count": null,
      "outputs": []
    },
    {
      "cell_type": "code",
      "source": [],
      "metadata": {
        "id": "DIvqKpL1ShJ0"
      },
      "execution_count": null,
      "outputs": []
    },
    {
      "cell_type": "code",
      "source": [],
      "metadata": {
        "id": "3ajx187sShHK"
      },
      "execution_count": null,
      "outputs": []
    },
    {
      "cell_type": "code",
      "source": [],
      "metadata": {
        "id": "BwamnZAuShEf"
      },
      "execution_count": null,
      "outputs": []
    }
  ]
}