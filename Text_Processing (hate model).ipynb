{
  "nbformat": 4,
  "nbformat_minor": 0,
  "metadata": {
    "colab": {
      "provenance": []
    },
    "kernelspec": {
      "name": "python3",
      "display_name": "Python 3"
    },
    "language_info": {
      "name": "python"
    }
  },
  "cells": [
    {
      "cell_type": "code",
      "source": [
        "!pip install transformers torch"
      ],
      "metadata": {
        "id": "hQiqJV1i54H5",
        "colab": {
          "base_uri": "https://localhost:8080/"
        },
        "outputId": "2d2e7e2b-553a-49e9-cce5-982cdbc8342e"
      },
      "execution_count": 2,
      "outputs": [
        {
          "output_type": "stream",
          "name": "stdout",
          "text": [
            "Requirement already satisfied: transformers in /usr/local/lib/python3.10/dist-packages (4.44.2)\n",
            "Requirement already satisfied: torch in /usr/local/lib/python3.10/dist-packages (2.4.1+cu121)\n",
            "Requirement already satisfied: filelock in /usr/local/lib/python3.10/dist-packages (from transformers) (3.16.1)\n",
            "Requirement already satisfied: huggingface-hub<1.0,>=0.23.2 in /usr/local/lib/python3.10/dist-packages (from transformers) (0.24.7)\n",
            "Requirement already satisfied: numpy>=1.17 in /usr/local/lib/python3.10/dist-packages (from transformers) (1.26.4)\n",
            "Requirement already satisfied: packaging>=20.0 in /usr/local/lib/python3.10/dist-packages (from transformers) (24.1)\n",
            "Requirement already satisfied: pyyaml>=5.1 in /usr/local/lib/python3.10/dist-packages (from transformers) (6.0.2)\n",
            "Requirement already satisfied: regex!=2019.12.17 in /usr/local/lib/python3.10/dist-packages (from transformers) (2024.9.11)\n",
            "Requirement already satisfied: requests in /usr/local/lib/python3.10/dist-packages (from transformers) (2.32.3)\n",
            "Requirement already satisfied: safetensors>=0.4.1 in /usr/local/lib/python3.10/dist-packages (from transformers) (0.4.5)\n",
            "Requirement already satisfied: tokenizers<0.20,>=0.19 in /usr/local/lib/python3.10/dist-packages (from transformers) (0.19.1)\n",
            "Requirement already satisfied: tqdm>=4.27 in /usr/local/lib/python3.10/dist-packages (from transformers) (4.66.5)\n",
            "Requirement already satisfied: typing-extensions>=4.8.0 in /usr/local/lib/python3.10/dist-packages (from torch) (4.12.2)\n",
            "Requirement already satisfied: sympy in /usr/local/lib/python3.10/dist-packages (from torch) (1.13.3)\n",
            "Requirement already satisfied: networkx in /usr/local/lib/python3.10/dist-packages (from torch) (3.4.1)\n",
            "Requirement already satisfied: jinja2 in /usr/local/lib/python3.10/dist-packages (from torch) (3.1.4)\n",
            "Requirement already satisfied: fsspec in /usr/local/lib/python3.10/dist-packages (from torch) (2024.6.1)\n",
            "Requirement already satisfied: MarkupSafe>=2.0 in /usr/local/lib/python3.10/dist-packages (from jinja2->torch) (3.0.2)\n",
            "Requirement already satisfied: charset-normalizer<4,>=2 in /usr/local/lib/python3.10/dist-packages (from requests->transformers) (3.4.0)\n",
            "Requirement already satisfied: idna<4,>=2.5 in /usr/local/lib/python3.10/dist-packages (from requests->transformers) (3.10)\n",
            "Requirement already satisfied: urllib3<3,>=1.21.1 in /usr/local/lib/python3.10/dist-packages (from requests->transformers) (2.2.3)\n",
            "Requirement already satisfied: certifi>=2017.4.17 in /usr/local/lib/python3.10/dist-packages (from requests->transformers) (2024.8.30)\n",
            "Requirement already satisfied: mpmath<1.4,>=1.1.0 in /usr/local/lib/python3.10/dist-packages (from sympy->torch) (1.3.0)\n"
          ]
        }
      ]
    },
    {
      "cell_type": "code",
      "execution_count": 4,
      "metadata": {
        "id": "lZ6zZYGJ52mR",
        "colab": {
          "base_uri": "https://localhost:8080/"
        },
        "outputId": "0d3c5a20-a9e7-4b1c-c9f9-26c1c83c9864"
      },
      "outputs": [
        {
          "output_type": "stream",
          "name": "stdout",
          "text": [
            "Sentiment: negative with confidence 0.99\n"
          ]
        }
      ],
      "source": [
        "from transformers import RobertaTokenizer, RobertaForSequenceClassification\n",
        "import torch\n",
        "\n",
        "# Load RoBERTa model pre-trained for sentiment analysis\n",
        "model_name = \"cardiffnlp/twitter-roberta-base-hate\"\n",
        "tokenizer = RobertaTokenizer.from_pretrained(model_name)\n",
        "model = RobertaForSequenceClassification.from_pretrained(model_name)\n",
        "\n",
        "# Function to analyze sentiment\n",
        "def sentiment_analysis(text):\n",
        "    # Encode the text into tokens\n",
        "    encoded_text = tokenizer(text, return_tensors='pt')\n",
        "\n",
        "    # Use the model to get the predictions\n",
        "    with torch.no_grad():\n",
        "        outputs = model(**encoded_text)\n",
        "\n",
        "    # Get the prediction results\n",
        "    predictions = torch.nn.functional.softmax(outputs.logits, dim=-1)\n",
        "    # Map predictions to sentiments\n",
        "    sentiments = ['negative', 'neutral', 'positive']\n",
        "    predicted_sentiment = sentiments[predictions.argmax().item()]\n",
        "    confidence = predictions.max().item()\n",
        "\n",
        "    return predicted_sentiment, confidence\n",
        "\n",
        "# Your text transcript\n",
        "transcript = '''Hello, I've been waiting to hear back about my test results for the chronic pain I've been experiencing in my joints.\n",
        " It's been over a week now. Yes, I understand that, but I was told I would receive a call two days ago. I'm also having recurring headaches and nausea\n",
        " which I mentioned during my visit. This is really frustrating. I've been feeling worse, and it seems like nobody at the care center\n",
        " is taking my concerns seriously. Well, that's not very helpful. What am I supposed to do in the meantime? The pain and the other symptoms\n",
        " are affecting my daily life. Okay, I guess I'll have to figure it out on my own then. Honestly, I'm really disappointed with the service here. Thank you for nothing.\n",
        "'''\n",
        "\n",
        "# Run sentiment analysis\n",
        "sentiment, confidence = sentiment_analysis(transcript)\n",
        "print(f\"Sentiment: {sentiment} with confidence {confidence:.2f}\")\n"
      ]
    }
  ]
}