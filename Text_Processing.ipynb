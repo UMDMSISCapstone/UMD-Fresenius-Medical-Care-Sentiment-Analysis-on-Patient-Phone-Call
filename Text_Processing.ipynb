{
  "nbformat": 4,
  "nbformat_minor": 0,
  "metadata": {
    "colab": {
      "provenance": []
    },
    "kernelspec": {
      "name": "python3",
      "display_name": "Python 3"
    },
    "language_info": {
      "name": "python"
    }
  },
  "cells": [
    {
      "cell_type": "code",
      "source": [
        "!pip install transformers torch"
      ],
      "metadata": {
        "id": "hQiqJV1i54H5",
        "colab": {
          "base_uri": "https://localhost:8080/"
        },
        "outputId": "d6c59a2e-d353-4485-81ec-40b95e6294e4"
      },
      "execution_count": null,
      "outputs": [
        {
          "output_type": "stream",
          "name": "stdout",
          "text": [
            "Requirement already satisfied: transformers in /usr/local/lib/python3.10/dist-packages (4.44.2)\n",
            "Requirement already satisfied: torch in /usr/local/lib/python3.10/dist-packages (2.4.1+cu121)\n",
            "Requirement already satisfied: filelock in /usr/local/lib/python3.10/dist-packages (from transformers) (3.16.1)\n",
            "Requirement already satisfied: huggingface-hub<1.0,>=0.23.2 in /usr/local/lib/python3.10/dist-packages (from transformers) (0.24.7)\n",
            "Requirement already satisfied: numpy>=1.17 in /usr/local/lib/python3.10/dist-packages (from transformers) (1.26.4)\n",
            "Requirement already satisfied: packaging>=20.0 in /usr/local/lib/python3.10/dist-packages (from transformers) (24.1)\n",
            "Requirement already satisfied: pyyaml>=5.1 in /usr/local/lib/python3.10/dist-packages (from transformers) (6.0.2)\n",
            "Requirement already satisfied: regex!=2019.12.17 in /usr/local/lib/python3.10/dist-packages (from transformers) (2024.9.11)\n",
            "Requirement already satisfied: requests in /usr/local/lib/python3.10/dist-packages (from transformers) (2.32.3)\n",
            "Requirement already satisfied: safetensors>=0.4.1 in /usr/local/lib/python3.10/dist-packages (from transformers) (0.4.5)\n",
            "Requirement already satisfied: tokenizers<0.20,>=0.19 in /usr/local/lib/python3.10/dist-packages (from transformers) (0.19.1)\n",
            "Requirement already satisfied: tqdm>=4.27 in /usr/local/lib/python3.10/dist-packages (from transformers) (4.66.5)\n",
            "Requirement already satisfied: typing-extensions>=4.8.0 in /usr/local/lib/python3.10/dist-packages (from torch) (4.12.2)\n",
            "Requirement already satisfied: sympy in /usr/local/lib/python3.10/dist-packages (from torch) (1.13.3)\n",
            "Requirement already satisfied: networkx in /usr/local/lib/python3.10/dist-packages (from torch) (3.3)\n",
            "Requirement already satisfied: jinja2 in /usr/local/lib/python3.10/dist-packages (from torch) (3.1.4)\n",
            "Requirement already satisfied: fsspec in /usr/local/lib/python3.10/dist-packages (from torch) (2024.6.1)\n",
            "Requirement already satisfied: MarkupSafe>=2.0 in /usr/local/lib/python3.10/dist-packages (from jinja2->torch) (2.1.5)\n",
            "Requirement already satisfied: charset-normalizer<4,>=2 in /usr/local/lib/python3.10/dist-packages (from requests->transformers) (3.3.2)\n",
            "Requirement already satisfied: idna<4,>=2.5 in /usr/local/lib/python3.10/dist-packages (from requests->transformers) (3.10)\n",
            "Requirement already satisfied: urllib3<3,>=1.21.1 in /usr/local/lib/python3.10/dist-packages (from requests->transformers) (2.2.3)\n",
            "Requirement already satisfied: certifi>=2017.4.17 in /usr/local/lib/python3.10/dist-packages (from requests->transformers) (2024.8.30)\n",
            "Requirement already satisfied: mpmath<1.4,>=1.1.0 in /usr/local/lib/python3.10/dist-packages (from sympy->torch) (1.3.0)\n"
          ]
        }
      ]
    },
    {
      "cell_type": "code",
      "execution_count": null,
      "metadata": {
        "id": "lZ6zZYGJ52mR",
        "colab": {
          "base_uri": "https://localhost:8080/"
        },
        "outputId": "28dd3e09-29ea-4164-a313-e13210a9d8f4"
      },
      "outputs": [
        {
          "output_type": "stream",
          "name": "stdout",
          "text": [
            "Sentiment: positive with confidence 0.96\n"
          ]
        }
      ],
      "source": [
        "from transformers import RobertaTokenizer, RobertaForSequenceClassification\n",
        "import torch\n",
        "\n",
        "# Load RoBERTa model pre-trained for sentiment analysis\n",
        "model_name = \"cardiffnlp/twitter-roberta-base-sentiment\"\n",
        "tokenizer = RobertaTokenizer.from_pretrained(model_name)\n",
        "model = RobertaForSequenceClassification.from_pretrained(model_name)\n",
        "\n",
        "# Function to analyze sentiment\n",
        "def sentiment_analysis(text):\n",
        "    # Encode the text into tokens\n",
        "    encoded_text = tokenizer(text, return_tensors='pt')\n",
        "\n",
        "    # Use the model to get the predictions\n",
        "    with torch.no_grad():\n",
        "        outputs = model(**encoded_text)\n",
        "\n",
        "    # Get the prediction results\n",
        "    predictions = torch.nn.functional.softmax(outputs.logits, dim=-1)\n",
        "    # Map predictions to sentiments\n",
        "    sentiments = ['negative', 'neutral', 'positive']\n",
        "    predicted_sentiment = sentiments[predictions.argmax().item()]\n",
        "    confidence = predictions.max().item()\n",
        "\n",
        "    return predicted_sentiment, confidence\n",
        "\n",
        "# Your text transcript\n",
        "transcript = '''I’m feeling alright, thanks. Things have been going smoothly with my treatment.\n",
        "Yes, the care has been pretty consistent, and I haven’t had any major concerns.\n",
        "The staff seems attentive, and I’ve been informed about my treatments. Nothing stands out as an issue so far.\n",
        "Overall, I’m satisfied with how things are going. Everything seems to be on track.\n",
        "I will, thanks for checking in.\n",
        "'''\n",
        "\n",
        "# Run sentiment analysis\n",
        "sentiment, confidence = sentiment_analysis(transcript)\n",
        "print(f\"Sentiment: {sentiment} with confidence {confidence:.2f}\")\n"
      ]
    }
  ]
}